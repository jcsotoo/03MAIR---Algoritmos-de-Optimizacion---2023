{
 "cells": [
  {
   "cell_type": "markdown",
   "id": "4dcd0de9",
   "metadata": {},
   "source": [
    "# Actividad Guiada 1 - 2da convocatoria\n",
    "\n",
    "# Juan Carlos Soto Orjuela"
   ]
  },
  {
   "cell_type": "markdown",
   "id": "e269787e",
   "metadata": {},
   "source": [
    "# 1. Desarrollo de algoritmos con la técnica de \"divide y vencerás\", ejemplo: Torres de Hanoi\n",
    "\n",
    "Tomado de https://www.europeanvalley.es/noticias/torres-de-hanoi/\n",
    "\n",
    "La complejidad del algoritmo es de $(2^n -1)$, donde n es el numero de discos a mover."
   ]
  },
  {
   "cell_type": "code",
   "execution_count": 20,
   "id": "f2e4cd8a",
   "metadata": {},
   "outputs": [],
   "source": [
    "def Hanoi (discos,TorreOrigen=1,TorreAuxiliar=2,TorreDestino=3):\n",
    "    if discos==1:\n",
    "        print (TorreOrigen,\"a\",TorreDestino)\n",
    "        \n",
    "    else:\n",
    "        Hanoi(discos-1,TorreOrigen,TorreDestino,TorreAuxiliar)\n",
    "        print(TorreOrigen,\"a\",TorreDestino)\n",
    "        Hanoi (discos-1,TorreAuxiliar,TorreOrigen,TorreDestino)\n",
    "    return"
   ]
  },
  {
   "cell_type": "code",
   "execution_count": 5,
   "id": "afd5313a",
   "metadata": {},
   "outputs": [
    {
     "name": "stdout",
     "output_type": "stream",
     "text": [
      "1 a 2\n",
      "1 a 3\n",
      "2 a 3\n",
      "1 a 2\n",
      "3 a 1\n",
      "3 a 2\n",
      "1 a 2\n",
      "1 a 3\n",
      "2 a 3\n",
      "2 a 1\n",
      "3 a 1\n",
      "2 a 3\n",
      "1 a 2\n",
      "1 a 3\n",
      "2 a 3\n"
     ]
    }
   ],
   "source": [
    "#\n",
    "Hanoi(4)"
   ]
  },
  {
   "cell_type": "markdown",
   "id": "14047674",
   "metadata": {},
   "source": [
    "[Ver demo del problema](https://www.geogebra.org/m/SCsJTqbs) "
   ]
  },
  {
   "cell_type": "markdown",
   "id": "7b2e61bf",
   "metadata": {},
   "source": [
    "# 2. Desarrollo de algoritmo voraz, ejemplo \"cambio a monedas\""
   ]
  },
  {
   "cell_type": "code",
   "execution_count": 21,
   "id": "1ce7cb33",
   "metadata": {},
   "outputs": [],
   "source": [
    "#Devolver cambio (Juan Camilo Yepes)\n",
    "\n",
    "def cambio_moneda(CANTIDAD, SISTEMA):\n",
    "    # Nominacion de las monedas a usar\n",
    "    print(\"SISTEMA:\")\n",
    "    print(SISTEMA)\n",
    "    \n",
    "    #crea lista de ceros, tantos como el largo de SISTEMA\n",
    "    SOLUCION=[0 for i in range(len(SISTEMA))] \n",
    "    \n",
    "    # Cuanto se ha procesado del total que hay que cambiar\n",
    "    VALOR_ACUMULADO=0\n",
    "    \n",
    "    for i in range(len(SISTEMA)):\n",
    "        # Para la denominacion [i] en el SISTEMA, cuantas monedas puedo usar\n",
    "        monedas=int((CANTIDAD-VALOR_ACUMULADO)/SISTEMA[i])\n",
    "        SOLUCION[i]=monedas\n",
    "        \n",
    "        # Para pasar a la siguiente denominacion, con que VALOR  prosigo\n",
    "        VALOR_ACUMULADO+=monedas*SISTEMA[i]\n",
    "        \n",
    "        # Si alcance el total que se me paso de parametro para convertir, parar \n",
    "        if VALOR_ACUMULADO==CANTIDAD:break\n",
    "    return SOLUCION\n",
    "\n"
   ]
  },
  {
   "cell_type": "code",
   "execution_count": 22,
   "id": "297bf3f9",
   "metadata": {},
   "outputs": [
    {
     "name": "stdout",
     "output_type": "stream",
     "text": [
      "SISTEMA:\n",
      "[25, 10, 5, 1]\n",
      "[1, 1, 1, 2]\n"
     ]
    }
   ],
   "source": [
    "SISTEMA=[25,10,5,1]\n",
    "print(cambio_moneda(42,SISTEMA))"
   ]
  },
  {
   "cell_type": "code",
   "execution_count": 23,
   "id": "2facfdcb",
   "metadata": {},
   "outputs": [
    {
     "name": "stdout",
     "output_type": "stream",
     "text": [
      "SISTEMA:\n",
      "[25, 10, 5, 2, 1]\n",
      "[1, 1, 1, 1, 1]\n"
     ]
    }
   ],
   "source": [
    "SISTEMA=[25,10,5,2,1]\n",
    "print(cambio_moneda(43,SISTEMA))"
   ]
  },
  {
   "cell_type": "markdown",
   "id": "8720a9fe",
   "metadata": {},
   "source": [
    "# 3. Desarrollo de algortimos usando fuerza bruta, ejemplo encontrar los dos  puntos mas cercanos\n",
    "\n",
    "Problema: Encontrar los dos puntos mas cercanos\n",
    "\n",
    "1) Dado un conjunto de puntos se trata de encontrar los numeros mas cercanos\n",
    "2) Guía para aprendizaje:\n",
    "    1) Suponer en 1D, o sea, una lista de numeros :[3403, 4537, 9089, 9746, 7259, ...]\n",
    "    2) Primer intento: Fuerza bruta\n",
    "    3) Calcular la complejidad. ¿Se puede mejorar?\n",
    "    4) Segundo intento: Aplicar Divide y Vencerás\n",
    "    5) Calcular la complejidad. ¿Se puede mejorar?\n",
    "    6) Extender el algoritmo a 2D:[(112,6175), (135,4076), (7296,2741) ...]\n",
    "    7) Extender el algoritmo a 3D.\n",
    "     \n",
    "    "
   ]
  },
  {
   "cell_type": "markdown",
   "id": "07e74aad",
   "metadata": {},
   "source": [
    "Manejo en 1D"
   ]
  },
  {
   "cell_type": "code",
   "execution_count": 24,
   "id": "7dd7edce",
   "metadata": {},
   "outputs": [
    {
     "name": "stdout",
     "output_type": "stream",
     "text": [
      "3.64 5.2 1.56\n",
      "5.2 3.64 1.56\n",
      "9.42 9.35 0.07000000000000028\n",
      "9.35 9.42 0.07000000000000028\n",
      "8.5 8.0 0.5\n",
      "8 8.5 0.5\n",
      "9.42 9.35 0.07000000000000028\n"
     ]
    }
   ],
   "source": [
    "#https://barcelonageeks.com/python-encuentra-el-numero-mas-cercano-a-k-en-la-lista-dada/\n",
    "# Python3 program to find Closest number in a list\n",
    "import numpy as np\n",
    "def closestD1(lst, K):\n",
    "      \n",
    "     lst = np.asarray(lst)\n",
    "     idx = (np.abs(lst - K)).argmin()\n",
    "     return lst[idx]\n",
    "      \n",
    "# Driver code\n",
    "lst = [3.64, 5.2, 9.42, 9.35, 8.5, 8]\n",
    "max_num=max(lst)\n",
    "min_num=min(lst)\n",
    "max_delta=max_num-min_num\n",
    "min_delta=max_delta\n",
    "for i in range(len(lst)):\n",
    "    K = lst[i]\n",
    "    #new_lst=lst.pop(i)\n",
    "    new_lst = lst[:i]+lst[i+1:]\n",
    "    K1 = closestD1(new_lst, K)\n",
    "    delta = abs(K1-K)\n",
    "    if min_delta>delta:\n",
    "        min_delta=delta\n",
    "        K0=K\n",
    "        K00=K1   \n",
    "    print(f\"{K} {K1} {delta}\")\n",
    "print(f\"{K0} {K00} {min_delta}\")  "
   ]
  },
  {
   "cell_type": "markdown",
   "id": "747bf184",
   "metadata": {},
   "source": [
    "Manejo en 2D\n",
    "Acorde a https://es.wikipedia.org/wiki/Problema_del_par_de_puntos_m%C3%A1s_cercanos, el par mas cercano de puntos puede ser encontrado en un tiempo proporcional a O$(n^2)$ mediante una búsqueda por fuerza bruta. Para ello habría que computar las distancias entre las $n(n-1)/2$ combinaciones de pares de puntos y elegir el par con la distancia mas pequeña."
   ]
  },
  {
   "cell_type": "code",
   "execution_count": 25,
   "id": "e2d93248",
   "metadata": {},
   "outputs": [
    {
     "name": "stdout",
     "output_type": "stream",
     "text": [
      "(2,2) - (1,1)\n"
     ]
    }
   ],
   "source": [
    "from math import sqrt\n",
    "def distancia(x1,y1,x2,y2):\n",
    "    return(sqrt((x2-x1)**2 + (y2-y1)**2))\n",
    "#\n",
    "def closestD2(lst_x, lst_y):\n",
    "    minDist=distancia(min(lst_x),max(lst_x),min(lst_y),max(lst_y)) \n",
    "    for i in range(len(lst_x)):\n",
    "        for j in range(len(lst_x)):\n",
    "            if i!=j:\n",
    "                new_distance=distancia(lst_x[i],lst_x[j],lst_y[i],lst_y[j])\n",
    "                if new_distance<minDist:\n",
    "                    min01=i\n",
    "                    min02=j\n",
    "                    minDist=new_distance\n",
    "    print (f\"({lst_x[min01]},{lst_y[min01]}) - ({lst_x[min02]},{lst_y[min02]})\")                           \n",
    "    return \n",
    "                \n",
    "        \n",
    "# Demo       \n",
    "lst_x= [2,7,8,9,1]\n",
    "lst_y= [2,8,9,11,1]\n",
    "closestD2(lst_x, lst_y) "
   ]
  }
 ],
 "metadata": {
  "kernelspec": {
   "display_name": "Python 3 (ipykernel)",
   "language": "python",
   "name": "python3"
  },
  "language_info": {
   "codemirror_mode": {
    "name": "ipython",
    "version": 3
   },
   "file_extension": ".py",
   "mimetype": "text/x-python",
   "name": "python",
   "nbconvert_exporter": "python",
   "pygments_lexer": "ipython3",
   "version": "3.11.4"
  }
 },
 "nbformat": 4,
 "nbformat_minor": 5
}
